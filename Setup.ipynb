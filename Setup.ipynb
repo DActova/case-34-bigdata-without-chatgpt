{
 "cells": [
  {
   "cell_type": "code",
   "execution_count": 1,
   "id": "443794d7-1c30-41f4-95de-500abd1b3219",
   "metadata": {},
   "outputs": [
    {
     "data": {
      "text/plain": [
       "[773, 546, 975, 55, 797]"
      ]
     },
     "execution_count": 1,
     "metadata": {},
     "output_type": "execute_result"
    }
   ],
   "source": [
    "import pyspark  \n",
    "sc = pyspark.SparkContext('local[*]') \n",
    "# do something to prove it works \n",
    "rdd = sc.parallelize(range(1000)) \n",
    "rdd.takeSample(False, 5) "
   ]
  },
  {
   "cell_type": "code",
   "execution_count": null,
   "id": "7b22e9a1-1703-4aa7-9308-da6ef6ae849e",
   "metadata": {},
   "outputs": [],
   "source": []
  }
 ],
 "metadata": {
  "kernelspec": {
   "display_name": "Python 3 (ipykernel)",
   "language": "python",
   "name": "python3"
  },
  "language_info": {
   "codemirror_mode": {
    "name": "ipython",
    "version": 3
   },
   "file_extension": ".py",
   "mimetype": "text/x-python",
   "name": "python",
   "nbconvert_exporter": "python",
   "pygments_lexer": "ipython3",
   "version": "3.11.5"
  }
 },
 "nbformat": 4,
 "nbformat_minor": 5
}
